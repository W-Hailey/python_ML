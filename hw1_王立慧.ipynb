{
  "nbformat": 4,
  "nbformat_minor": 0,
  "metadata": {
    "colab": {
      "name": "hw1_王立慧.ipynb",
      "provenance": [],
      "collapsed_sections": [],
      "authorship_tag": "ABX9TyNLPud6/IC631Xr08v+qZga",
      "include_colab_link": true
    },
    "kernelspec": {
      "name": "python3",
      "display_name": "Python 3"
    },
    "language_info": {
      "name": "python"
    }
  },
  "cells": [
    {
      "cell_type": "markdown",
      "metadata": {
        "id": "view-in-github",
        "colab_type": "text"
      },
      "source": [
        "<a href=\"https://colab.research.google.com/github/W-Hailey/python_ML/blob/main/hw1_%E7%8E%8B%E7%AB%8B%E6%85%A7.ipynb\" target=\"_parent\"><img src=\"https://colab.research.google.com/assets/colab-badge.svg\" alt=\"Open In Colab\"/></a>"
      ]
    },
    {
      "cell_type": "code",
      "execution_count": null,
      "metadata": {
        "colab": {
          "base_uri": "https://localhost:8080/"
        },
        "id": "R_VP194Y_ZqN",
        "outputId": "0ce08fbe-ffb1-4ca2-837a-7a850d6f2389"
      },
      "outputs": [
        {
          "output_type": "stream",
          "name": "stdout",
          "text": [
            "被除數: 25\n",
            "除數: 8\n",
            "3.13\n"
          ]
        }
      ],
      "source": [
        "#第一題\n",
        "#(1)\n",
        "try:\n",
        "  x=int(input(\"被除數: \"))\n",
        "  y=int(input(\"除數: \"))\n",
        "  z=((x/y)*1000)%10\n",
        "  if z >= 5:\n",
        "    print(float('{:.2f}'.format(x/y))+0.01)\n",
        "  elif z < 5:\n",
        "    print(float('{:.3f}'.format(x/y)))\n",
        "except ValueError:\n",
        "  print(\"請輸入正確數字格式\")\n",
        "\n"
      ]
    },
    {
      "cell_type": "code",
      "source": [
        "#第二題\n",
        "num = int(input())\n",
        "x=num%2\n",
        "y=num%3\n",
        "z=num%6\n",
        "if z==0:\n",
        "  print(\"此數為 6 的倍數\")\n",
        "elif x==0:\n",
        "    print(\"此數為 2 的倍數\")\n",
        "elif y==0:\n",
        "    print(\"此數為 3 的倍數\")\n"
      ],
      "metadata": {
        "colab": {
          "base_uri": "https://localhost:8080/"
        },
        "id": "fV3rYb5GDPX2",
        "outputId": "8bd45d20-39f5-426b-bdfe-146a1b9e1460"
      },
      "execution_count": null,
      "outputs": [
        {
          "output_type": "stream",
          "name": "stdout",
          "text": [
            "15\n",
            "此數為 3 的倍數\n"
          ]
        }
      ]
    },
    {
      "cell_type": "code",
      "source": [
        "#第三題\n",
        "number = int(input(\"Enter a number(秒): \"))\n",
        "print(f\"{number//3600} 時 {(number%3600)//60}分 {number%60}秒\" )"
      ],
      "metadata": {
        "colab": {
          "base_uri": "https://localhost:8080/"
        },
        "id": "ibiccPpAEn50",
        "outputId": "3017279a-6f49-4bf0-93a1-82a05bf7da5c"
      },
      "execution_count": null,
      "outputs": [
        {
          "output_type": "stream",
          "name": "stdout",
          "text": [
            "Enter a number(秒): 56240\n",
            "15 時 37分 20秒\n"
          ]
        }
      ]
    },
    {
      "cell_type": "code",
      "source": [
        "#第四題\n",
        "n=int(input(\"請輸入數字: \"))\n",
        "i=1\n",
        "if n%2==0:\n",
        "  while i<n:\n",
        "    print(i,end=\" \")\n",
        "    i += 2\n"
      ],
      "metadata": {
        "colab": {
          "base_uri": "https://localhost:8080/"
        },
        "id": "OKe-LBTFGSbn",
        "outputId": "658463f4-8f91-4182-8a63-88d86ee7d96b"
      },
      "execution_count": null,
      "outputs": [
        {
          "output_type": "stream",
          "name": "stdout",
          "text": [
            "請輸入數字: 20\n",
            "1 3 5 7 9 11 13 15 17 19 "
          ]
        }
      ]
    }
  ]
}