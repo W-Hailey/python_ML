{
  "nbformat": 4,
  "nbformat_minor": 0,
  "metadata": {
    "colab": {
      "name": "hw5_王立慧.ipynb",
      "provenance": [],
      "collapsed_sections": [],
      "authorship_tag": "ABX9TyNweaUBBvJzHbL/DwZmvESy",
      "include_colab_link": true
    },
    "kernelspec": {
      "name": "python3",
      "display_name": "Python 3"
    },
    "language_info": {
      "name": "python"
    }
  },
  "cells": [
    {
      "cell_type": "markdown",
      "metadata": {
        "id": "view-in-github",
        "colab_type": "text"
      },
      "source": [
        "<a href=\"https://colab.research.google.com/github/W-Hailey/python_ML/blob/main/hw5_%E7%8E%8B%E7%AB%8B%E6%85%A7.ipynb\" target=\"_parent\"><img src=\"https://colab.research.google.com/assets/colab-badge.svg\" alt=\"Open In Colab\"/></a>"
      ]
    },
    {
      "cell_type": "code",
      "execution_count": 2,
      "metadata": {
        "colab": {
          "base_uri": "https://localhost:8080/"
        },
        "id": "VNtwxRt7phR_",
        "outputId": "93fa5a05-ae97-4c97-b40a-8e5a8f182a5c"
      },
      "outputs": [
        {
          "output_type": "stream",
          "name": "stdout",
          "text": [
            "Mounted at /content/drive/\n"
          ]
        }
      ],
      "source": [
        "from google.colab import drive\n",
        "drive.mount(\"/content/drive/\")"
      ]
    },
    {
      "cell_type": "code",
      "source": [
        "import numpy as np\n",
        "import pandas as pd\n",
        "import matplotlib.pyplot as plt\n",
        "from sklearn import datasets\n",
        "from sklearn.model_selection import train_test_split\n",
        "from sklearn.linear_model import LinearRegression\n",
        "from sklearn.metrics import mean_squared_error"
      ],
      "metadata": {
        "id": "XKnF4wU_qOAt"
      },
      "execution_count": 3,
      "outputs": []
    },
    {
      "cell_type": "code",
      "source": [
        "df = pd.read_csv('/content/drive/My Drive/python_ML/Salary_Data.csv')"
      ],
      "metadata": {
        "id": "AHnEMwUBp8f0"
      },
      "execution_count": 4,
      "outputs": []
    },
    {
      "cell_type": "code",
      "source": [
        "print(df)"
      ],
      "metadata": {
        "colab": {
          "base_uri": "https://localhost:8080/"
        },
        "id": "iOjzVO2jp8jc",
        "outputId": "10f2d32f-69c3-41bb-c0cd-9338810372c1"
      },
      "execution_count": 5,
      "outputs": [
        {
          "output_type": "stream",
          "name": "stdout",
          "text": [
            "    YearsExperience    Salary\n",
            "0               1.1   39343.0\n",
            "1               1.3   46205.0\n",
            "2               1.5   37731.0\n",
            "3               2.0   43525.0\n",
            "4               2.2   39891.0\n",
            "5               2.9   56642.0\n",
            "6               3.0   60150.0\n",
            "7               3.2   54445.0\n",
            "8               3.2   64445.0\n",
            "9               3.7   57189.0\n",
            "10              3.9   63218.0\n",
            "11              4.0   55794.0\n",
            "12              4.0   56957.0\n",
            "13              4.1   57081.0\n",
            "14              4.5   61111.0\n",
            "15              4.9   67938.0\n",
            "16              5.1   66029.0\n",
            "17              5.3   83088.0\n",
            "18              5.9   81363.0\n",
            "19              6.0   93940.0\n",
            "20              6.8   91738.0\n",
            "21              7.1   98273.0\n",
            "22              7.9  101302.0\n",
            "23              8.2  113812.0\n",
            "24              8.7  109431.0\n",
            "25              9.0  105582.0\n",
            "26              9.5  116969.0\n",
            "27              9.6  112635.0\n",
            "28             10.3  122391.0\n",
            "29             10.5  121872.0\n"
          ]
        }
      ]
    },
    {
      "cell_type": "code",
      "source": [
        "#沒標準化\n",
        "X=df[[\"YearsExperience\"]]\n",
        "Y=df[[\"Salary\"]]\n",
        "\n",
        "train_x, test_x, train_y, test_y  = train_test_split(X, Y, test_size=0.2)\n",
        "\n",
        "regression = LinearRegression()\n",
        "regression.fit(train_x, train_y) #建好訓練模型\n",
        "y_p = regression.predict(test_x) #丟入測試資料x, 估計y值\n",
        "Y_pred = regression.predict(X)\n",
        "\n",
        "\n",
        "print(f\"evaluation MSE: {mean_squared_error(test_y, y_p)}\") #估計結果與測試資料y作比較\n",
        "\n",
        "plt.scatter(X, Y, s = 5)\n",
        "plt.plot(X,Y_pred, color = 'red')\n",
        "plt.show()"
      ],
      "metadata": {
        "id": "XJbyQE2Kp8ms",
        "colab": {
          "base_uri": "https://localhost:8080/",
          "height": 283
        },
        "outputId": "b189b852-37d5-4cdb-a035-08470dddd16e"
      },
      "execution_count": 22,
      "outputs": [
        {
          "output_type": "stream",
          "name": "stdout",
          "text": [
            "evaluation MSE: 47412356.97582812\n"
          ]
        },
        {
          "output_type": "display_data",
          "data": {
            "text/plain": [
              "<Figure size 432x288 with 1 Axes>"
            ],
            "image/png": "[encoded data removed]"
          },
          "metadata": {
            "needs_background": "light"
          }
        }
      ]
    },
    {
      "cell_type": "code",
      "source": [
        "from sklearn import preprocessing\n",
        "Ystd = preprocessing.scale(Y)\n",
        "print(Ystd)"
      ],
      "metadata": {
        "id": "FPrHFSZmp8r4",
        "colab": {
          "base_uri": "https://localhost:8080/"
        },
        "outputId": "1fc570a5-1786-4b78-eed1-90c177abc4c2"
      },
      "execution_count": 23,
      "outputs": [
        {
          "output_type": "stream",
          "name": "stdout",
          "text": [
            "[[-1.36011263]\n",
            " [-1.10552744]\n",
            " [-1.419919  ]\n",
            " [-1.20495739]\n",
            " [-1.33978143]\n",
            " [-0.71830716]\n",
            " [-0.58815781]\n",
            " [-0.79981746]\n",
            " [-0.42881019]\n",
            " [-0.69801306]\n",
            " [-0.47433279]\n",
            " [-0.74976858]\n",
            " [-0.70662043]\n",
            " [-0.70201994]\n",
            " [-0.55250402]\n",
            " [-0.29921736]\n",
            " [-0.37004264]\n",
            " [ 0.26285865]\n",
            " [ 0.19885989]\n",
            " [ 0.66547573]\n",
            " [ 0.58377993]\n",
            " [ 0.82623317]\n",
            " [ 0.93861127]\n",
            " [ 1.40274136]\n",
            " [ 1.24020308]\n",
            " [ 1.09740238]\n",
            " [ 1.51986835]\n",
            " [ 1.3590738 ]\n",
            " [ 1.72102849]\n",
            " [ 1.70177321]]\n"
          ]
        }
      ]
    },
    {
      "cell_type": "code",
      "source": [
        "#標準化\n",
        "train_x, test_x, train_y, test_y  = train_test_split(X, Ystd, test_size=0.2)\n",
        "\n",
        "regression = LinearRegression()\n",
        "regression.fit(train_x, train_y) #建好訓練模型\n",
        "y_p = regression.predict(test_x) #丟入測試資料x, 估計y值\n",
        "Y_pred = regression.predict(X)\n",
        "\n",
        "\n",
        "print(f\"evaluation MSE: {mean_squared_error(test_y, y_p)}\") #估計結果與測試資料y作比較\n",
        "\n",
        "plt.scatter(X, Ystd, s = 3)\n",
        "plt.plot(X,Y_pred, color = 'red')\n",
        "plt.show()"
      ],
      "metadata": {
        "colab": {
          "base_uri": "https://localhost:8080/",
          "height": 284
        },
        "id": "aoyEECzZfe_s",
        "outputId": "fb726ff9-1cde-4827-e0d3-6109e5033ab8"
      },
      "execution_count": 24,
      "outputs": [
        {
          "output_type": "stream",
          "name": "stdout",
          "text": [
            "evaluation MSE: 0.04840648513715926\n"
          ]
        },
        {
          "output_type": "display_data",
          "data": {
            "text/plain": [
              "<Figure size 432x288 with 1 Axes>"
            ],
            "image/png": "[encoded data removed]"
          },
          "metadata": {
            "needs_background": "light"
          }
        }
      ]
    }
  ]
}