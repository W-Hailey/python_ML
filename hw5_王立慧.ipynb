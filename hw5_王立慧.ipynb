{
  "nbformat": 4,
  "nbformat_minor": 0,
  "metadata": {
    "colab": {
      "name": "hw5_王立慧.ipynb",
      "provenance": [],
      "collapsed_sections": [],
      "authorship_tag": "ABX9TyOXlqkDzSxRTDCdL7hXHJtH",
      "include_colab_link": true
    },
    "kernelspec": {
      "name": "python3",
      "display_name": "Python 3"
    },
    "language_info": {
      "name": "python"
    }
  },
  "cells": [
    {
      "cell_type": "markdown",
      "metadata": {
        "id": "view-in-github",
        "colab_type": "text"
      },
      "source": [
        "<a href=\"https://colab.research.google.com/github/W-Hailey/python_ML/blob/main/hw5_%E7%8E%8B%E7%AB%8B%E6%85%A7.ipynb\" target=\"_parent\"><img src=\"https://colab.research.google.com/assets/colab-badge.svg\" alt=\"Open In Colab\"/></a>"
      ]
    },
    {
      "cell_type": "code",
      "execution_count": 1,
      "metadata": {
        "colab": {
          "base_uri": "https://localhost:8080/"
        },
        "id": "VNtwxRt7phR_",
        "outputId": "9b357f17-d711-483b-8aea-67f0c4f90f7f"
      },
      "outputs": [
        {
          "output_type": "stream",
          "name": "stdout",
          "text": [
            "Mounted at /content/drive/\n"
          ]
        }
      ],
      "source": [
        "from google.colab import drive\n",
        "drive.mount(\"/content/drive/\")"
      ]
    },
    {
      "cell_type": "code",
      "source": [
        "import numpy as np\n",
        "import pandas as pd\n",
        "import matplotlib.pyplot as plt\n",
        "from sklearn import datasets\n",
        "from sklearn.model_selection import train_test_split\n",
        "from sklearn.linear_model import LinearRegression\n",
        "from sklearn.metrics import mean_squared_error"
      ],
      "metadata": {
        "id": "XKnF4wU_qOAt"
      },
      "execution_count": 2,
      "outputs": []
    },
    {
      "cell_type": "code",
      "source": [
        "df = pd.read_csv('/content/drive/My Drive/python_ML/Salary_Data.csv')"
      ],
      "metadata": {
        "id": "AHnEMwUBp8f0"
      },
      "execution_count": 3,
      "outputs": []
    },
    {
      "cell_type": "code",
      "source": [
        "print(df)"
      ],
      "metadata": {
        "colab": {
          "base_uri": "https://localhost:8080/"
        },
        "id": "iOjzVO2jp8jc",
        "outputId": "5d2dfcc6-1c34-4228-c44e-9628ee6a89a1"
      },
      "execution_count": 4,
      "outputs": [
        {
          "output_type": "stream",
          "name": "stdout",
          "text": [
            "    YearsExperience    Salary\n",
            "0               1.1   39343.0\n",
            "1               1.3   46205.0\n",
            "2               1.5   37731.0\n",
            "3               2.0   43525.0\n",
            "4               2.2   39891.0\n",
            "5               2.9   56642.0\n",
            "6               3.0   60150.0\n",
            "7               3.2   54445.0\n",
            "8               3.2   64445.0\n",
            "9               3.7   57189.0\n",
            "10              3.9   63218.0\n",
            "11              4.0   55794.0\n",
            "12              4.0   56957.0\n",
            "13              4.1   57081.0\n",
            "14              4.5   61111.0\n",
            "15              4.9   67938.0\n",
            "16              5.1   66029.0\n",
            "17              5.3   83088.0\n",
            "18              5.9   81363.0\n",
            "19              6.0   93940.0\n",
            "20              6.8   91738.0\n",
            "21              7.1   98273.0\n",
            "22              7.9  101302.0\n",
            "23              8.2  113812.0\n",
            "24              8.7  109431.0\n",
            "25              9.0  105582.0\n",
            "26              9.5  116969.0\n",
            "27              9.6  112635.0\n",
            "28             10.3  122391.0\n",
            "29             10.5  121872.0\n"
          ]
        }
      ]
    },
    {
      "cell_type": "code",
      "source": [
        "#沒標準化\n",
        "X=df[[\"YearsExperience\"]]\n",
        "Y=df[[\"Salary\"]]\n",
        "\n",
        "train_x, test_x, train_y, test_y  = train_test_split(X, Y, test_size=0.2,random_state=10)\n",
        "\n",
        "regression = LinearRegression()\n",
        "regression.fit(train_x, train_y) #建好訓練模型\n",
        "y_p = regression.predict(test_x) #丟入測試資料x, 估計y值\n",
        "Y_pred = regression.predict(X)\n",
        "\n",
        "\n",
        "print(f\"evaluation MSE: {mean_squared_error(test_y, y_p)}\") #估計結果與測試資料y作比較\n",
        "\n",
        "plt.scatter(X, Y, s = 5)\n",
        "plt.plot(X,Y_pred, color = 'red')\n",
        "plt.show()"
      ],
      "metadata": {
        "id": "XJbyQE2Kp8ms",
        "colab": {
          "base_uri": "https://localhost:8080/",
          "height": 282
        },
        "outputId": "5fef04a3-61d4-4f66-c995-3496ba98ef45"
      },
      "execution_count": 5,
      "outputs": [
        {
          "output_type": "stream",
          "name": "stdout",
          "text": [
            "evaluation MSE: 9785570.138914324\n"
          ]
        },
        {
          "output_type": "display_data",
          "data": {
            "text/plain": [
              "<Figure size 432x288 with 1 Axes>"
            ],
            "image/png": "[encoded data removed]"
          },
          "metadata": {
            "needs_background": "light"
          }
        }
      ]
    },
    {
      "cell_type": "code",
      "source": [
        "from sklearn import preprocessing\n",
        "Ystd = preprocessing.scale(Y)\n",
        "print(Ystd)"
      ],
      "metadata": {
        "id": "FPrHFSZmp8r4",
        "colab": {
          "base_uri": "https://localhost:8080/"
        },
        "outputId": "f5669c9b-985e-4866-9fab-e15adcfeb1ee"
      },
      "execution_count": 6,
      "outputs": [
        {
          "output_type": "stream",
          "name": "stdout",
          "text": [
            "[[-1.36011263]\n",
            " [-1.10552744]\n",
            " [-1.419919  ]\n",
            " [-1.20495739]\n",
            " [-1.33978143]\n",
            " [-0.71830716]\n",
            " [-0.58815781]\n",
            " [-0.79981746]\n",
            " [-0.42881019]\n",
            " [-0.69801306]\n",
            " [-0.47433279]\n",
            " [-0.74976858]\n",
            " [-0.70662043]\n",
            " [-0.70201994]\n",
            " [-0.55250402]\n",
            " [-0.29921736]\n",
            " [-0.37004264]\n",
            " [ 0.26285865]\n",
            " [ 0.19885989]\n",
            " [ 0.66547573]\n",
            " [ 0.58377993]\n",
            " [ 0.82623317]\n",
            " [ 0.93861127]\n",
            " [ 1.40274136]\n",
            " [ 1.24020308]\n",
            " [ 1.09740238]\n",
            " [ 1.51986835]\n",
            " [ 1.3590738 ]\n",
            " [ 1.72102849]\n",
            " [ 1.70177321]]\n"
          ]
        }
      ]
    },
    {
      "cell_type": "code",
      "source": [
        "#標準化\n",
        "train_x, test_x, train_y, test_y  = train_test_split(X, Ystd, test_size=0.2,random_state=10)\n",
        "\n",
        "regression = LinearRegression()\n",
        "regression.fit(train_x, train_y) #建好訓練模型\n",
        "y_p = regression.predict(test_x) #丟入測試資料x, 估計y值\n",
        "Y_pred = regression.predict(X)\n",
        "\n",
        "\n",
        "print(f\"evaluation MSE: {mean_squared_error(test_y, y_p)}\") #估計結果與測試資料y作比較\n",
        "\n",
        "plt.scatter(X, Ystd, s = 3)\n",
        "plt.plot(X,Y_pred, color = 'red')\n",
        "plt.show()"
      ],
      "metadata": {
        "colab": {
          "base_uri": "https://localhost:8080/",
          "height": 282
        },
        "id": "aoyEECzZfe_s",
        "outputId": "1251a30d-9665-45b2-ca81-141c7130c4e0"
      },
      "execution_count": 7,
      "outputs": [
        {
          "output_type": "stream",
          "name": "stdout",
          "text": [
            "evaluation MSE: 0.013469483940791895\n"
          ]
        },
        {
          "output_type": "display_data",
          "data": {
            "text/plain": [
              "<Figure size 432x288 with 1 Axes>"
            ],
            "image/png": "[encoded data removed]"
          },
          "metadata": {
            "needs_background": "light"
          }
        }
      ]
    }
  ]
}