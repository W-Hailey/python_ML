{
  "nbformat": 4,
  "nbformat_minor": 0,
  "metadata": {
    "colab": {
      "name": "hw3_王立慧.ipynb",
      "provenance": [],
      "collapsed_sections": [],
      "authorship_tag": "ABX9TyPD5pOmIpFYDoNgEjJJwIm7",
      "include_colab_link": true
    },
    "kernelspec": {
      "name": "python3",
      "display_name": "Python 3"
    },
    "language_info": {
      "name": "python"
    }
  },
  "cells": [
    {
      "cell_type": "markdown",
      "metadata": {
        "id": "view-in-github",
        "colab_type": "text"
      },
      "source": [
        "<a href=\"https://colab.research.google.com/github/W-Hailey/python_ML/blob/main/hw3_%E7%8E%8B%E7%AB%8B%E6%85%A7.ipynb\" target=\"_parent\"><img src=\"https://colab.research.google.com/assets/colab-badge.svg\" alt=\"Open In Colab\"/></a>"
      ]
    },
    {
      "cell_type": "code",
      "execution_count": null,
      "metadata": {
        "colab": {
          "base_uri": "https://localhost:8080/"
        },
        "id": "HWLzifDCyOq4",
        "outputId": "a9d3e71f-651a-4557-bc9f-832b2020a69d"
      },
      "outputs": [
        {
          "output_type": "stream",
          "name": "stdout",
          "text": [
            "5\n",
            "*****\n",
            " ****\n",
            "  ***\n",
            "   **\n",
            "    *\n"
          ]
        }
      ],
      "source": [
        "#第一題\n",
        "n=int(input())\n",
        "for i in range(n):\n",
        "  for j in range(i):\n",
        "    print(\" \",end=\"\")\n",
        "  for k in range(n-i):\n",
        "    print(\"*\",end=\"\")\n",
        "  print()"
      ]
    },
    {
      "cell_type": "code",
      "source": [
        "#第二題\n",
        "n=int(input())\n",
        "for i in range(n):\n",
        "  for k in range(n-i+1):\n",
        "    print(\" \",end=\"\")\n",
        "  for j in range(i+1):\n",
        "    print(\"*\",end=\"\")\n",
        "  print()"
      ],
      "metadata": {
        "colab": {
          "base_uri": "https://localhost:8080/"
        },
        "id": "nJKGK5azyYtm",
        "outputId": "8958ce70-8ef7-4743-e6ce-cba1340a0e82"
      },
      "execution_count": null,
      "outputs": [
        {
          "output_type": "stream",
          "name": "stdout",
          "text": [
            "5\n",
            "      *\n",
            "     **\n",
            "    ***\n",
            "   ****\n",
            "  *****\n"
          ]
        }
      ]
    },
    {
      "cell_type": "code",
      "source": [
        "#第三題\n",
        "def get_distance(x1,y1,x2,y2):\n",
        "  return ((x1-x2)**2+(y1-y2)**2)**0.5\n",
        "\n",
        "point1=input(\"point1: \")\n",
        "point1 =point1.split(\" \")\n",
        "x1 =int(point1[0])\n",
        "y1 =int(point1[1])\n",
        "\n",
        "point2=input(\"point2: \")\n",
        "point2 =point2.split(\" \")\n",
        "x2 =int(point2[0])\n",
        "y2 =int(point2[1])\n",
        "\n",
        "\n",
        "ans=get_distance(x1,y1,x2,y2)\n",
        "print(ans)\n",
        "\n",
        "\n",
        "\n",
        "\n",
        "\n",
        "\n"
      ],
      "metadata": {
        "colab": {
          "base_uri": "https://localhost:8080/"
        },
        "id": "WAtxnKXrzHxn",
        "outputId": "c0d9e943-ac59-424a-bf12-73216651e505"
      },
      "execution_count": null,
      "outputs": [
        {
          "output_type": "stream",
          "name": "stdout",
          "text": [
            "point1: 3 5\n",
            "point2: 10 29\n",
            "25.0\n"
          ]
        }
      ]
    },
    {
      "cell_type": "code",
      "source": [
        "#第四題\n",
        "import random\n",
        "row = int(input(\"row: \"))\n",
        "col = int(input(\"col: \"))\n",
        "matrix = [[0]*col for i in range(row)]\n",
        "for i in range(row):\n",
        "  for j in range(col):\n",
        "    matrix[i][j] = random.randint(1,20)\n",
        "print()\n",
        "\n",
        "for r in matrix:\n",
        "  for c in r:\n",
        "    print(c, end=\" \")\n",
        "  print()\n",
        "  \n",
        "\n",
        "#print(matrix)"
      ],
      "metadata": {
        "colab": {
          "base_uri": "https://localhost:8080/"
        },
        "id": "l6Yi_v6M8Q__",
        "outputId": "c273dedd-e550-4e9c-eb95-27d3388def80"
      },
      "execution_count": null,
      "outputs": [
        {
          "output_type": "stream",
          "name": "stdout",
          "text": [
            "row: 5\n",
            "col: 3\n",
            "\n",
            "19 3 13 \n",
            "5 19 20 \n",
            "12 6 14 \n",
            "6 10 5 \n",
            "10 19 17 \n"
          ]
        }
      ]
    }
  ]
}