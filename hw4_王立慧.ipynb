{
  "nbformat": 4,
  "nbformat_minor": 0,
  "metadata": {
    "colab": {
      "name": "hw4_王立慧.ipynb",
      "provenance": [],
      "collapsed_sections": [],
      "authorship_tag": "ABX9TyPXkrASGCECEaMB8JnGzmZp",
      "include_colab_link": true
    },
    "kernelspec": {
      "name": "python3",
      "display_name": "Python 3"
    },
    "language_info": {
      "name": "python"
    }
  },
  "cells": [
    {
      "cell_type": "markdown",
      "metadata": {
        "id": "view-in-github",
        "colab_type": "text"
      },
      "source": [
        "<a href=\"https://colab.research.google.com/github/W-Hailey/python_ML/blob/main/hw4_%E7%8E%8B%E7%AB%8B%E6%85%A7.ipynb\" target=\"_parent\"><img src=\"https://colab.research.google.com/assets/colab-badge.svg\" alt=\"Open In Colab\"/></a>"
      ]
    },
    {
      "cell_type": "code",
      "execution_count": null,
      "metadata": {
        "id": "UF11rgr4RIFc"
      },
      "outputs": [],
      "source": [
        "import numpy as np\n"
      ]
    },
    {
      "cell_type": "code",
      "source": [
        "\n",
        "#第一題\n",
        "Am = []\n",
        "Bm = []\n",
        "\n",
        "a = 2\n",
        "b = 3\n",
        "\n",
        "for i in range(a):\n",
        "  Am.append(list(map(int, input().rstrip().split())))\n",
        "\n",
        "for i in range(b):\n",
        "  Bm.append(list(map(int, input().rstrip().split())))\n",
        "\n",
        "print(np.matmul(Am,Bm))\n",
        "\n",
        "# a=np.empty(shape=(2,3))\n",
        "# b=np.empty(shape=(3,2))\n",
        "\n",
        "# for i in range(len(a)):\n",
        "#   for j in range(len(a[0])):\n",
        "#     a[i,j]=int(input()) \n",
        "\n",
        "# for i in range(len(b)):\n",
        "#   for j in range(len(b[0])):\n",
        "#     b[i,j]=int(input())\n",
        "\n",
        "# print(np.matumul(a,b))"
      ],
      "metadata": {
        "id": "J_BOXKY3R-hc",
        "colab": {
          "base_uri": "https://localhost:8080/"
        },
        "outputId": "30a5a730-ce3f-421f-8238-cb081ae2125c"
      },
      "execution_count": null,
      "outputs": [
        {
          "output_type": "stream",
          "name": "stdout",
          "text": [
            "2 3 5\n",
            "5 7 8\n",
            "1 2 \n",
            "3 10\n",
            "2 6\n",
            "[[ 21  64]\n",
            " [ 42 128]]\n"
          ]
        }
      ]
    },
    {
      "cell_type": "code",
      "source": [
        "#第二題\n",
        "A=input(\"A class:\")\n",
        "A =A.split(\" \")\n",
        "\n",
        "B=input(\"B class:\")\n",
        "B =B.split(\" \")\n",
        "\n",
        "C=input(\"C class:\")\n",
        "C =C.split(\" \")\n",
        "\n",
        "A=list(map(lambda x:int(x),A))\n",
        "B=list(map(lambda x:int(x),B))\n",
        "C=list(map(lambda x:int(x),C))\n",
        "\n",
        "\n",
        "\n"
      ],
      "metadata": {
        "colab": {
          "base_uri": "https://localhost:8080/"
        },
        "id": "gIlEbaEgVolF",
        "outputId": "6a0d658a-6639-480e-fab6-3e708c94e6c9"
      },
      "execution_count": null,
      "outputs": [
        {
          "name": "stdout",
          "output_type": "stream",
          "text": [
            "A class:32 57 89 82 98 57 88 56 93 91\n",
            "B class:88 93 20 70 56 83 92 100 80 97\n",
            "C class:82 75 83 95 96 90 77 82 90 88\n"
          ]
        }
      ]
    },
    {
      "cell_type": "code",
      "source": [
        "print(f\"A class 總和:{np.sum(A)},最大:{np.max(A)}\\nB class 總和:{np.sum(B)},最大:{np.max(B)}\\nC class 總和:{np.sum(C)},最大:{np.max(C)}\")\n"
      ],
      "metadata": {
        "colab": {
          "base_uri": "https://localhost:8080/"
        },
        "id": "1cPzcfAQaqdf",
        "outputId": "e9b1057f-3a6a-4af5-93ad-604df19d8c13"
      },
      "execution_count": null,
      "outputs": [
        {
          "output_type": "stream",
          "name": "stdout",
          "text": [
            "A class 總和:743,最大:98\n",
            "B class 總和:779,最大:100\n",
            "C class 總和:858,最大:96\n"
          ]
        }
      ]
    }
  ]
}