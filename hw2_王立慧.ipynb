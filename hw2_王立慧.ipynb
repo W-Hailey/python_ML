{
  "nbformat": 4,
  "nbformat_minor": 0,
  "metadata": {
    "colab": {
      "name": "hw2_王立慧",
      "provenance": [],
      "collapsed_sections": [],
      "authorship_tag": "ABX9TyPyMLv2fUbMKviSodKAUZWV",
      "include_colab_link": true
    },
    "kernelspec": {
      "name": "python3",
      "display_name": "Python 3"
    },
    "language_info": {
      "name": "python"
    }
  },
  "cells": [
    {
      "cell_type": "markdown",
      "metadata": {
        "id": "view-in-github",
        "colab_type": "text"
      },
      "source": [
        "<a href=\"https://colab.research.google.com/github/W-Hailey/python_ML/blob/main/hw2_%E7%8E%8B%E7%AB%8B%E6%85%A7.ipynb\" target=\"_parent\"><img src=\"https://colab.research.google.com/assets/colab-badge.svg\" alt=\"Open In Colab\"/></a>"
      ]
    },
    {
      "cell_type": "code",
      "execution_count": null,
      "metadata": {
        "colab": {
          "base_uri": "https://localhost:8080/"
        },
        "id": "qXqW-ARnjkjF",
        "outputId": "25940769-a597-4903-aa7c-ba9c20f5f714"
      },
      "outputs": [
        {
          "output_type": "stream",
          "name": "stdout",
          "text": [
            "10\n",
            "1+2+3+4+5+6+7+8+9+10=55\n"
          ]
        }
      ],
      "source": [
        "#第一題\n",
        "n=int(input())\n",
        "i=1\n",
        "total=0\n",
        "while i<=n:\n",
        "  if i==n:\n",
        "    print(i,end=\"=\")\n",
        "  else:\n",
        "    print(i,end=\"+\")\n",
        "  total=total+i\n",
        "  i+=1\n",
        "print(total)"
      ]
    },
    {
      "cell_type": "code",
      "source": [
        "#第二題\n",
        "numbers =input()\n",
        "numbers =numbers.replace(\"[\",\"\").replace(\"]\",\"\")\n",
        "numbers =numbers.split(\",\")\n",
        "\n",
        "n = list(map(int, numbers))\n",
        "\n",
        "x=int(input())\n",
        "ans=[]\n",
        "for v in n:\n",
        "  if v > x:\n",
        "    ans.append(v)\n",
        "print(ans)\n"
      ],
      "metadata": {
        "colab": {
          "base_uri": "https://localhost:8080/"
        },
        "id": "Du3oyrDg69y_",
        "outputId": "560a0d43-ce88-403f-af07-a4b321518a73"
      },
      "execution_count": null,
      "outputs": [
        {
          "output_type": "stream",
          "name": "stdout",
          "text": [
            "[35,37,98,100,83,55,76,120,85]\n",
            "60\n",
            "[98, 100, 83, 76, 120, 85]\n"
          ]
        }
      ]
    },
    {
      "cell_type": "code",
      "source": [
        "#第二題(進階版寫法)\n",
        "import random\n",
        "numbers=[random.randint(1,100) for i in range(10)]\n",
        "target=int(input())\n",
        "#filter裡面只能放條件，不能放運算(map可以)\n",
        "ans=list(filter(lambda x:x>target,numbers)) #x表示numbers裡的每個數字\n",
        "\n",
        "print(ans)"
      ],
      "metadata": {
        "colab": {
          "base_uri": "https://localhost:8080/"
        },
        "id": "6j1m348ckGSN",
        "outputId": "7d32e30f-a3e5-44dc-ada5-d15790679bd1"
      },
      "execution_count": null,
      "outputs": [
        {
          "output_type": "stream",
          "name": "stdout",
          "text": [
            "60\n",
            "[80, 97, 95, 95]\n"
          ]
        }
      ]
    },
    {
      "cell_type": "code",
      "source": [
        "#第二題 補充\n",
        "print(list(map(lambda x:int(x),numbers)))"
      ],
      "metadata": {
        "id": "HdcZ7suPm4IY"
      },
      "execution_count": null,
      "outputs": []
    },
    {
      "cell_type": "code",
      "source": [
        "#第三題\n",
        "s = input()\n",
        "s = s.split()\n",
        "ans = []\n",
        "for v in s:\n",
        "  if int(v) % 2 == 0 :\n",
        "    ans.append(int(v))\n",
        "print(f\"總和: {sum(ans)}\")"
      ],
      "metadata": {
        "id": "nZ9pdnUskIZu",
        "colab": {
          "base_uri": "https://localhost:8080/"
        },
        "outputId": "03e2eb43-bffe-4f76-9ea3-c2a4abcea2b8"
      },
      "execution_count": null,
      "outputs": [
        {
          "output_type": "stream",
          "name": "stdout",
          "text": [
            "32 89 100 67 52 98 84\n",
            "總和: 366\n"
          ]
        }
      ]
    },
    {
      "cell_type": "code",
      "source": [
        "#第四題\n",
        "mom = input()\n",
        "son = input()\n",
        "\n",
        "length = len(son)\n",
        "total = 0\n",
        "for i in range(len(mom) - length + 1):\n",
        "    s=slice(i, i+length, 1)\n",
        "    \n",
        "    if (mom[s] == son):\n",
        "        total += 1\n",
        "print(total)"
      ],
      "metadata": {
        "colab": {
          "base_uri": "https://localhost:8080/"
        },
        "id": "mWVUk6NxKJ3B",
        "outputId": "f29b9429-0c49-43d2-97ca-23d1967304eb"
      },
      "execution_count": null,
      "outputs": [
        {
          "output_type": "stream",
          "name": "stdout",
          "text": [
            "acdghacdfhcdcacddf\n",
            "acd\n",
            "3\n"
          ]
        }
      ]
    }
  ]
}