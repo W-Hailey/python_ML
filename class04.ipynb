{
  "nbformat": 4,
  "nbformat_minor": 0,
  "metadata": {
    "colab": {
      "name": "class04.ipynb",
      "provenance": [],
      "collapsed_sections": [],
      "authorship_tag": "ABX9TyORGWveLHYHgdAvCLIKQhzp",
      "include_colab_link": true
    },
    "kernelspec": {
      "name": "python3",
      "display_name": "Python 3"
    },
    "language_info": {
      "name": "python"
    }
  },
  "cells": [
    {
      "cell_type": "markdown",
      "metadata": {
        "id": "view-in-github",
        "colab_type": "text"
      },
      "source": [
        "<a href=\"https://colab.research.google.com/github/W-Hailey/python_ML/blob/main/class04.ipynb\" target=\"_parent\"><img src=\"https://colab.research.google.com/assets/colab-badge.svg\" alt=\"Open In Colab\"/></a>"
      ]
    },
    {
      "cell_type": "markdown",
      "source": [
        "物件導向(Object oriented programming)\n"
      ],
      "metadata": {
        "id": "hnan7P2fn7A_"
      }
    },
    {
      "cell_type": "code",
      "source": [
        "#class後面第一個字一定要大寫(類別名稱)\n",
        "class Person:\n",
        "  def __init__(self):  # __init__:建構子(constructor)\n",
        "    self.name=\"Hailey\"\n",
        "    self.gender=\"F\"\n",
        "    print(\"This is person class\")\n",
        "\n"
      ],
      "metadata": {
        "id": "scP7vtEth9ZP"
      },
      "execution_count": null,
      "outputs": []
    },
    {
      "cell_type": "code",
      "source": [
        "p=Person() #物件化(實體化) instance\n",
        "#類別實體化->物件"
      ],
      "metadata": {
        "id": "1hKLq9SwiJAh"
      },
      "execution_count": null,
      "outputs": []
    },
    {
      "cell_type": "code",
      "source": [
        "class Person:\n",
        "  #def __init__:建構子(constructor)\n",
        "  def __init__(self,name,gender): \n",
        "    self.n=name\n",
        "    self.g=gender\n",
        "    print(\"This is person class\")\n",
        "  #instance method   \n",
        "  def introduction(self):  #method一定要寫在class裡\n",
        "    print(f\"Hellow my name is{self.n}\")\n",
        "\n",
        "p1=Person(name=\"Hailey\", gender=\"F\")\n",
        "p2=Person(name=\"Tom\", gender=\"M\")"
      ],
      "metadata": {
        "colab": {
          "base_uri": "https://localhost:8080/"
        },
        "id": "aX7FWQu_inty",
        "outputId": "580504e9-1301-4a78-e7ee-0f9e943e2509"
      },
      "execution_count": null,
      "outputs": [
        {
          "output_type": "stream",
          "name": "stdout",
          "text": [
            "This is person class\n",
            "This is person class\n"
          ]
        }
      ]
    },
    {
      "cell_type": "code",
      "source": [
        "print(p1.n, p1.g)\n",
        "print(p2.n, p2.g)"
      ],
      "metadata": {
        "colab": {
          "base_uri": "https://localhost:8080/"
        },
        "id": "FP3LDqagk_fX",
        "outputId": "e6f26ffc-e4dc-4e2c-8d1c-1871e7f15d65"
      },
      "execution_count": null,
      "outputs": [
        {
          "output_type": "stream",
          "name": "stdout",
          "text": [
            "Hailey F\n",
            "Tom M\n"
          ]
        }
      ]
    },
    {
      "cell_type": "code",
      "source": [
        "p1.introduction() #instance method\n",
        "p2.introduction()"
      ],
      "metadata": {
        "colab": {
          "base_uri": "https://localhost:8080/"
        },
        "id": "bjji6Xa0lPa5",
        "outputId": "ebd9cf2c-b448-4a9b-bb6e-6191748a702d"
      },
      "execution_count": null,
      "outputs": [
        {
          "output_type": "stream",
          "name": "stdout",
          "text": [
            "Hellow my name isHailey\n",
            "Hellow my name isTom\n"
          ]
        }
      ]
    },
    {
      "cell_type": "code",
      "source": [
        "#物件屬性attribute寫在__init__裡面\n",
        "class Warrior:\n",
        "  def __init__(self,name,gender, weapon=\"bat\"): \n",
        "    #共同屬性\n",
        "    self.lv = 1\n",
        "    self.exp = 0\n",
        "    #客製化屬性\n",
        "    self.n = name\n",
        "    self.g = gender\n",
        "    self.w = weapon\n",
        "    print(\"This is Warrior class.\")\n",
        "  def __str__(self): #__str__(self)***\n",
        "    return f\"Name:{self.n},Gender:{self.g},Weapon:{self.w},Level:{self.lv},EXP:{self.exp}\"\n",
        "  \n",
        "  #def attack(self):\n",
        "      #self.exp += 40 #每次攻擊時 經驗值加40\n",
        "      #if self.exp >= 100:\n",
        "        #self.lv+=1\n",
        "        #self.exp-=100\n",
        "      #print(f\"{self.n} attacked! Level: {self.lv}, Exp: {self.exp}\")\n",
        "\n",
        "  def attack(self,enemy):\n",
        "    self.exp += 40 #每次攻擊時 經驗值加40\n",
        "    enemy.hp -= 1  \n",
        "    self.level_up()\n",
        "    print(f\"{self.n} attacked! Level: {self.lv}, Exp: {self.exp}\")\n",
        "  \n",
        "  def level_up(self):\n",
        "    if self.exp >= 100:\n",
        "      self.lv+=1\n",
        "      self.exp-=100\n",
        "      print(f\"{self.n} level up!!!\")"
      ],
      "metadata": {
        "id": "sG3KwjY8i5lB"
      },
      "execution_count": null,
      "outputs": []
    },
    {
      "cell_type": "code",
      "source": [
        "class Enemy: #定義enemy\n",
        "  def __init__(self):\n",
        "    self.name=\"Monster\"\n",
        "    self.hp=100"
      ],
      "metadata": {
        "id": "EQQQh_iDxlTX"
      },
      "execution_count": null,
      "outputs": []
    },
    {
      "cell_type": "code",
      "source": [
        "e1=Enemy()"
      ],
      "metadata": {
        "id": "d37ppbjhyg72"
      },
      "execution_count": null,
      "outputs": []
    },
    {
      "cell_type": "code",
      "source": [
        "w1=Warrior(name=\"Thousand\", gender=\"Male\",weapon=\"Sword\")\n",
        "w2=Warrior(name=\"Allie\", gender=\"Female\",weapon=\"Longbow\")\n"
      ],
      "metadata": {
        "colab": {
          "base_uri": "https://localhost:8080/"
        },
        "id": "9rryFKotobqH",
        "outputId": "1d0a9e62-85a9-4d63-fed2-ca42097e506c"
      },
      "execution_count": null,
      "outputs": [
        {
          "output_type": "stream",
          "name": "stdout",
          "text": [
            "This is Warrior class.\n",
            "This is Warrior class.\n"
          ]
        }
      ]
    },
    {
      "cell_type": "code",
      "source": [
        "print(f\"Warrior:{w1}\")"
      ],
      "metadata": {
        "colab": {
          "base_uri": "https://localhost:8080/"
        },
        "id": "gsN_7J3dqkfx",
        "outputId": "254d97c6-9eeb-46a3-def8-2282286807b5"
      },
      "execution_count": null,
      "outputs": [
        {
          "output_type": "stream",
          "name": "stdout",
          "text": [
            "Warrior:Name:Thousand,Gender:Male,Weapon:Sword,Level:1,EXP:0\n"
          ]
        }
      ]
    },
    {
      "cell_type": "code",
      "source": [
        "for i in range(5):\n",
        "  w1.attack() "
      ],
      "metadata": {
        "colab": {
          "base_uri": "https://localhost:8080/"
        },
        "id": "_TMNJ_pQrnVR",
        "outputId": "15fce8a7-0a41-4c12-c4dd-93a75bac920a"
      },
      "execution_count": null,
      "outputs": [
        {
          "output_type": "stream",
          "name": "stdout",
          "text": [
            "Thousand attacked! Level: 3, Exp: 40\n",
            "Thousand attacked! Level: 3, Exp: 80\n",
            "Thousand level up!!!\n",
            "Thousand attacked! Level: 4, Exp: 20\n",
            "Thousand attacked! Level: 4, Exp: 60\n",
            "Thousand level up!!!\n",
            "Thousand attacked! Level: 5, Exp: 0\n"
          ]
        }
      ]
    },
    {
      "cell_type": "markdown",
      "source": [
        "繼承(inherit)"
      ],
      "metadata": {
        "id": "CRNVxKeM0RQ_"
      }
    },
    {
      "cell_type": "code",
      "source": [
        "class Character: #爸爸\n",
        "  def __init__(self,name, gender, weapon=\"bat\"):\n",
        "    self.lv = 1\n",
        "    self.exp = 0\n",
        "    self.n = name\n",
        "    self.g = gender\n",
        "    self.w = weapon\n",
        "    print(\"This is a Character class.\")\n",
        "  def __str__(self): #__str__(self)***\n",
        "    return f\"Name:{self.n},Gender:{self.g},Weapon:{self.w},Level:{self.lv},EXP:{self.exp}\"\n",
        "  \n",
        "  def attack(self,enemy):\n",
        "    self.exp += 40 #每次攻擊時 經驗值加40\n",
        "    enemy.hp -= 1  \n",
        "    self.level_up()\n",
        "    print(f\"{self.n} attacked! Level: {self.lv}, Exp: {self.exp}\")\n",
        "  \n",
        "  def level_up(self):\n",
        "    if self.exp >= 100:\n",
        "      self.lv+=1\n",
        "      self.exp-=100\n",
        "      print(f\"{self.n} level up!!!\")\n",
        " "
      ],
      "metadata": {
        "id": "hCfYtvOb0dBe"
      },
      "execution_count": null,
      "outputs": []
    },
    {
      "cell_type": "code",
      "source": [
        "class Enemy: #定義enemy\n",
        "  def __init__(self):\n",
        "    self.name=\"Monster\"\n",
        "    self.hp=100"
      ],
      "metadata": {
        "id": "d3rGXxJ03kef"
      },
      "execution_count": null,
      "outputs": []
    },
    {
      "cell_type": "code",
      "source": [
        "class Warrior(Character): #兒子\n",
        "  def __init__(self, name, gender, weapon=\"bat\"):\n",
        "    super().__init__(name, gender, weapon) #super():呼叫爸爸\n",
        "    self.sp=100\n",
        "    print(\"This is Warrior Class\")\n",
        "  def attack(self,enemy):  #爸爸attack做完，再新增自己做的\n",
        "    super().attack(enemy)\n",
        "    print(\"w1\")\n",
        "\n",
        "  \n",
        "\n"
      ],
      "metadata": {
        "id": "z8p3EQbq0dNG"
      },
      "execution_count": null,
      "outputs": []
    },
    {
      "cell_type": "code",
      "source": [
        "class Magician(Character): #兒子\n",
        "  def __init__(self, name, gender, weapon=\"bat\"):\n",
        "    super().__init__(name, gender, weapon)\n",
        "    self.mp=100\n",
        "    print(\"This is Magician Class\")"
      ],
      "metadata": {
        "id": "hjVQRQok17VH"
      },
      "execution_count": null,
      "outputs": []
    },
    {
      "cell_type": "code",
      "source": [
        "e1=Enemy()"
      ],
      "metadata": {
        "id": "tbW9r6Av3raw"
      },
      "execution_count": null,
      "outputs": []
    },
    {
      "cell_type": "code",
      "source": [
        "w1=Warrior(name=\"Thousand\",gender=\"Male\",weapon=\"Sword\")"
      ],
      "metadata": {
        "colab": {
          "base_uri": "https://localhost:8080/"
        },
        "id": "tY2GCyQ-0dUN",
        "outputId": "76739b24-3b27-4666-eebe-7df57c9ce6bb"
      },
      "execution_count": null,
      "outputs": [
        {
          "output_type": "stream",
          "name": "stdout",
          "text": [
            "This is a Character class.\n",
            "This is Warrior Class\n"
          ]
        }
      ]
    },
    {
      "cell_type": "code",
      "source": [
        "for i in range(5):\n",
        "  w1.attack(enemy=e1) "
      ],
      "metadata": {
        "colab": {
          "base_uri": "https://localhost:8080/"
        },
        "id": "ok9Q7S8X35Km",
        "outputId": "75d55c74-b5cb-4e07-fa47-9ac2509d9431"
      },
      "execution_count": null,
      "outputs": [
        {
          "output_type": "stream",
          "name": "stdout",
          "text": [
            "Thousand attacked! Level: 1, Exp: 40\n",
            "w1\n",
            "Thousand attacked! Level: 1, Exp: 80\n",
            "w1\n",
            "Thousand level up!!!\n",
            "Thousand attacked! Level: 2, Exp: 20\n",
            "w1\n",
            "Thousand attacked! Level: 2, Exp: 60\n",
            "w1\n",
            "Thousand level up!!!\n",
            "Thousand attacked! Level: 3, Exp: 0\n",
            "w1\n"
          ]
        }
      ]
    },
    {
      "cell_type": "markdown",
      "source": [
        "numpy"
      ],
      "metadata": {
        "id": "1ov8EMk8-kD_"
      }
    },
    {
      "cell_type": "code",
      "source": [
        "import numpy as np\n"
      ],
      "metadata": {
        "id": "EzP9k5pk-mHF"
      },
      "execution_count": null,
      "outputs": []
    },
    {
      "cell_type": "code",
      "source": [
        "a=[1,2,3]\n",
        "b=[4,5,6]\n",
        "print(a+b)"
      ],
      "metadata": {
        "colab": {
          "base_uri": "https://localhost:8080/"
        },
        "id": "s5OgnLUB-0f4",
        "outputId": "864f3d9d-0851-4d65-c05a-4afd5250fa56"
      },
      "execution_count": null,
      "outputs": [
        {
          "output_type": "stream",
          "name": "stdout",
          "text": [
            "[1, 2, 3, 4, 5, 6]\n"
          ]
        }
      ]
    },
    {
      "cell_type": "code",
      "source": [
        "arr1=np.array(a)\n",
        "arr2=np.array(b)\n",
        "print(arr1+arr2)"
      ],
      "metadata": {
        "colab": {
          "base_uri": "https://localhost:8080/"
        },
        "id": "jRsu3QEI-0jm",
        "outputId": "328c0cd4-aa7d-46e1-bb79-8031ea227431"
      },
      "execution_count": null,
      "outputs": [
        {
          "output_type": "stream",
          "name": "stdout",
          "text": [
            "[5 7 9]\n"
          ]
        }
      ]
    },
    {
      "cell_type": "code",
      "source": [
        "# numpy basic\n",
        "a = np.array([1,2,3])\n",
        "b = np.array([[1.0,2.0,3.0],[3.2,5.7,8.2]])\n",
        "print(f\"a: {a}\")\n",
        "print(f\"a dimension: {a.ndim}\")\n",
        "print(f\"a shape: {a.shape}\") #shape: (幾個row，幾個col)\n",
        "print(f\"a type: {a.dtype}\")\n",
        "print(f\"b: {b}\")\n",
        "print(f\"b dimension: {b.ndim}\")\n",
        "print(f\"b shape: {b.shape}\") #(2,3):兩筆資料(兩個框框)，三個切片(最裡面框框有幾個數字)\n",
        "print(f\"b type: {b.dtype}\")"
      ],
      "metadata": {
        "id": "e8RMRdga_3oR"
      },
      "execution_count": null,
      "outputs": []
    },
    {
      "cell_type": "code",
      "source": [
        "a = np.array([[1,2,3,4,5,6],[7,8,9,10,11,12]])\n",
        "print(a[1,2]) # 9\n",
        "print(a[0,:]) # 第一個全部 [1,2,3,4,5,6]\n",
        "print(a[:,2]) # 所有的第二個 [3,9]\n",
        "print(a[0,1:5:2]) # [2,4] (start,stop,step)\n",
        "a[1,2] = 20\n",
        "print(a)\n",
        "a[:,2] = [7,8]\n",
        "print(a)"
      ],
      "metadata": {
        "colab": {
          "base_uri": "https://localhost:8080/"
        },
        "id": "VvKfUGT-Bw-4",
        "outputId": "0aca8946-de6d-4e9e-9791-a17b2960c1a1"
      },
      "execution_count": null,
      "outputs": [
        {
          "output_type": "stream",
          "name": "stdout",
          "text": [
            "9\n",
            "[1 2 3 4 5 6]\n",
            "[3 9]\n",
            "[2 4]\n",
            "[[ 1  2  3  4  5  6]\n",
            " [ 7  8 20 10 11 12]]\n",
            "[[ 1  2  7  4  5  6]\n",
            " [ 7  8  8 10 11 12]]\n"
          ]
        }
      ]
    },
    {
      "cell_type": "code",
      "source": [
        "a = np.array([[[1,2],[3,5],[7,8]],\n",
        "              [[1,7],[-3,2],[10,2]],\n",
        "              [[6,-2],[5,-3],[7,9]],\n",
        "              [[8,5],[-2,2],[26,-2]],\n",
        "              [[1,-7],[-3,2],[-5,-2]],])\n",
        "print(a)\n",
        "print(a.shape) \n",
        "print(a[3,2,0])\n",
        "print(a[:,1,:])"
      ],
      "metadata": {
        "id": "GYcVVEeOCtou",
        "colab": {
          "base_uri": "https://localhost:8080/"
        },
        "outputId": "0ec10c89-167c-4619-f083-eea076ea0aa6"
      },
      "execution_count": null,
      "outputs": [
        {
          "output_type": "stream",
          "name": "stdout",
          "text": [
            "[[[ 1  2]\n",
            "  [ 3  5]\n",
            "  [ 7  8]]\n",
            "\n",
            " [[ 1  7]\n",
            "  [-3  2]\n",
            "  [10  2]]\n",
            "\n",
            " [[ 6 -2]\n",
            "  [ 5 -3]\n",
            "  [ 7  9]]\n",
            "\n",
            " [[ 8  5]\n",
            "  [-2  2]\n",
            "  [26 -2]]\n",
            "\n",
            " [[ 1 -7]\n",
            "  [-3  2]\n",
            "  [-5 -2]]]\n",
            "(5, 3, 2)\n",
            "26\n",
            "[[ 3  5]\n",
            " [-3  2]\n",
            " [ 5 -3]\n",
            " [-2  2]\n",
            " [-3  2]]\n"
          ]
        }
      ]
    },
    {
      "cell_type": "code",
      "source": [
        "# list: 用來存放，用numpy算(不要用list算)"
      ],
      "metadata": {
        "id": "QATlkip5FxiA"
      },
      "execution_count": null,
      "outputs": []
    },
    {
      "cell_type": "code",
      "source": [
        "# 乘法單位元素\n",
        "a = np.array([[1,2,3],[4,5,6],[7,8,9]])\n",
        "identity = np.identity(3) #np.identity(3): 3*3單位矩正\n",
        "print(np.matmul(a,identity))"
      ],
      "metadata": {
        "id": "dr4N3S-oGhaw"
      },
      "execution_count": null,
      "outputs": []
    },
    {
      "cell_type": "code",
      "source": [
        "# statistics\n",
        "a = np.array([[92,83,56,77,98],[81,53,64,76,60]])\n",
        "print(np.max(a))\n",
        "#axis***\n",
        "print(np.max(a,axis=0)) #找直向最大 (2選一)\n",
        "print(np.max(a,axis=1)) #找橫向最大 (兩組裡面個別最大值)\n",
        "print(np.sum(a,axis=0))\n",
        "print(np.sum(a,axis=1))"
      ],
      "metadata": {
        "id": "Q81L0JdcGwGN",
        "outputId": "d88b9080-6705-444c-df74-78969eb02ace",
        "colab": {
          "base_uri": "https://localhost:8080/"
        }
      },
      "execution_count": null,
      "outputs": [
        {
          "output_type": "stream",
          "name": "stdout",
          "text": [
            "98\n",
            "[92 83 64 77 98]\n",
            "[98 81]\n",
            "[173 136 120 153 158]\n",
            "[406 334]\n"
          ]
        }
      ]
    }
  ]
}